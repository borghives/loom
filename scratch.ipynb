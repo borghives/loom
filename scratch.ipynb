{
 "cells": [
  {
   "cell_type": "code",
   "execution_count": 1,
   "id": "e9ef104c",
   "metadata": {},
   "outputs": [
    {
     "name": "stderr",
     "output_type": "stream",
     "text": [
      "/var/folders/nb/nkbsny6d2694lc5ylgvm2mr40000gn/T/ipykernel_47567/1136154076.py:8: PydanticDeprecatedSince211: Annotation 'tid' is marked as final and has a default value. Pydantic treats 'tid' as a class variable, but it will be considered as a normal field in V3 to be aligned with dataclasses. If you still want 'tid' to be considered as a class variable, annotate it as: `ClassVar[<type>] = <default>.`. Deprecated in Pydantic V2.11 to be removed in V3.0.\n",
      "  class User(Model):\n"
     ]
    }
   ],
   "source": [
    "from typing import Final\n",
    "from pydantic import BaseModel, Field\n",
    "\n",
    "from loom.info.atomic import IncrIntCounter\n",
    "from loom.info.model import Model, TimeUpdated\n",
    "\n",
    "\n",
    "class User(Model):\n",
    "    # This ID cannot be changed after instantiation.\n",
    "    tid: IncrIntCounter = Field(description=\"The unique identifier for the user.\")\n",
    "    username: str = Field(description=\"The unique identifier for the user.\", default=\"hi\")\n"
   ]
  },
  {
   "cell_type": "code",
   "execution_count": 2,
   "id": "12a969cd",
   "metadata": {},
   "outputs": [
    {
     "data": {
      "text/html": [
       "<pre style=\"white-space:pre;overflow-x:auto;line-height:normal;font-family:Menlo,'DejaVu Sans Mono',consolas,'Courier New',monospace\"><span style=\"font-weight: bold\">{</span><span style=\"color: #008000; text-decoration-color: #008000\">'id'</span>: <span style=\"font-weight: bold\">[]</span>, <span style=\"color: #008000; text-decoration-color: #008000\">'username'</span>: <span style=\"font-weight: bold\">[]}</span>\n",
       "</pre>\n"
      ],
      "text/plain": [
       "\u001b[1m{\u001b[0m\u001b[32m'id'\u001b[0m: \u001b[1m[\u001b[0m\u001b[1m]\u001b[0m, \u001b[32m'username'\u001b[0m: \u001b[1m[\u001b[0m\u001b[1m]\u001b[0m\u001b[1m}\u001b[0m\n"
      ]
     },
     "metadata": {},
     "output_type": "display_data"
    }
   ],
   "source": [
    "import rich\n",
    "\n",
    "\n",
    "meta_map = {\n",
    "            key: [item for item in value.metadata]\n",
    "            for key, value in User.model_fields.items()\n",
    "        }\n",
    "\n",
    "rich.print(meta_map)"
   ]
  },
  {
   "cell_type": "code",
   "execution_count": 4,
   "id": "5481181b",
   "metadata": {},
   "outputs": [
    {
     "ename": "AttributeError",
     "evalue": "'tid' is a ClassVar of `User` and cannot be set on an instance. If you want to set a value on the class, use `User.tid = value`.",
     "output_type": "error",
     "traceback": [
      "\u001b[31m---------------------------------------------------------------------------\u001b[39m",
      "\u001b[31mAttributeError\u001b[39m                            Traceback (most recent call last)",
      "\u001b[36mCell\u001b[39m\u001b[36m \u001b[39m\u001b[32mIn[4]\u001b[39m\u001b[32m, line 3\u001b[39m\n\u001b[32m      1\u001b[39m test = User()\n\u001b[32m----> \u001b[39m\u001b[32m3\u001b[39m \u001b[43mtest\u001b[49m\u001b[43m.\u001b[49m\u001b[43mtid\u001b[49m = \u001b[32m1\u001b[39m\n\u001b[32m      4\u001b[39m rich.print(test.tid)\n",
      "\u001b[36mFile \u001b[39m\u001b[32m~/projects/loom/.venv/lib/python3.13/site-packages/pydantic/main.py:997\u001b[39m, in \u001b[36mBaseModel.__setattr__\u001b[39m\u001b[34m(self, name, value)\u001b[39m\n\u001b[32m    995\u001b[39m     setattr_handler(\u001b[38;5;28mself\u001b[39m, name, value)\n\u001b[32m    996\u001b[39m \u001b[38;5;66;03m# if None is returned from _setattr_handler, the attribute was set directly\u001b[39;00m\n\u001b[32m--> \u001b[39m\u001b[32m997\u001b[39m \u001b[38;5;28;01melif\u001b[39;00m (setattr_handler := \u001b[38;5;28;43mself\u001b[39;49m\u001b[43m.\u001b[49m\u001b[43m_setattr_handler\u001b[49m\u001b[43m(\u001b[49m\u001b[43mname\u001b[49m\u001b[43m,\u001b[49m\u001b[43m \u001b[49m\u001b[43mvalue\u001b[49m\u001b[43m)\u001b[49m) \u001b[38;5;129;01mis\u001b[39;00m \u001b[38;5;129;01mnot\u001b[39;00m \u001b[38;5;28;01mNone\u001b[39;00m:\n\u001b[32m    998\u001b[39m     setattr_handler(\u001b[38;5;28mself\u001b[39m, name, value)  \u001b[38;5;66;03m# call here to not memo on possibly unknown fields\u001b[39;00m\n\u001b[32m    999\u001b[39m     \u001b[38;5;28mself\u001b[39m.__pydantic_setattr_handlers__[name] = setattr_handler\n",
      "\u001b[36mFile \u001b[39m\u001b[32m~/projects/loom/.venv/lib/python3.13/site-packages/pydantic/main.py:1011\u001b[39m, in \u001b[36mBaseModel._setattr_handler\u001b[39m\u001b[34m(self, name, value)\u001b[39m\n\u001b[32m   1009\u001b[39m \u001b[38;5;28mcls\u001b[39m = \u001b[38;5;28mself\u001b[39m.\u001b[34m__class__\u001b[39m\n\u001b[32m   1010\u001b[39m \u001b[38;5;28;01mif\u001b[39;00m name \u001b[38;5;129;01min\u001b[39;00m \u001b[38;5;28mcls\u001b[39m.__class_vars__:\n\u001b[32m-> \u001b[39m\u001b[32m1011\u001b[39m     \u001b[38;5;28;01mraise\u001b[39;00m \u001b[38;5;167;01mAttributeError\u001b[39;00m(\n\u001b[32m   1012\u001b[39m         \u001b[33mf\u001b[39m\u001b[33m'\u001b[39m\u001b[38;5;132;01m{\u001b[39;00mname\u001b[38;5;132;01m!r}\u001b[39;00m\u001b[33m is a ClassVar of `\u001b[39m\u001b[38;5;132;01m{\u001b[39;00m\u001b[38;5;28mcls\u001b[39m.\u001b[34m__name__\u001b[39m\u001b[38;5;132;01m}\u001b[39;00m\u001b[33m` and cannot be set on an instance. \u001b[39m\u001b[33m'\u001b[39m\n\u001b[32m   1013\u001b[39m         \u001b[33mf\u001b[39m\u001b[33m'\u001b[39m\u001b[33mIf you want to set a value on the class, use `\u001b[39m\u001b[38;5;132;01m{\u001b[39;00m\u001b[38;5;28mcls\u001b[39m.\u001b[34m__name__\u001b[39m\u001b[38;5;132;01m}\u001b[39;00m\u001b[33m.\u001b[39m\u001b[38;5;132;01m{\u001b[39;00mname\u001b[38;5;132;01m}\u001b[39;00m\u001b[33m = value`.\u001b[39m\u001b[33m'\u001b[39m\n\u001b[32m   1014\u001b[39m     )\n\u001b[32m   1015\u001b[39m \u001b[38;5;28;01melif\u001b[39;00m \u001b[38;5;129;01mnot\u001b[39;00m _fields.is_valid_field_name(name):\n\u001b[32m   1016\u001b[39m     \u001b[38;5;28;01mif\u001b[39;00m (attribute := \u001b[38;5;28mcls\u001b[39m.__private_attributes__.get(name)) \u001b[38;5;129;01mis\u001b[39;00m \u001b[38;5;129;01mnot\u001b[39;00m \u001b[38;5;28;01mNone\u001b[39;00m:\n",
      "\u001b[31mAttributeError\u001b[39m: 'tid' is a ClassVar of `User` and cannot be set on an instance. If you want to set a value on the class, use `User.tid = value`."
     ]
    }
   ],
   "source": [
    "test = User()\n",
    "\n",
    "test.tid = 1\n",
    "rich.print(test.tid)"
   ]
  },
  {
   "cell_type": "code",
   "execution_count": null,
   "id": "d67b8ed3",
   "metadata": {},
   "outputs": [],
   "source": []
  }
 ],
 "metadata": {
  "kernelspec": {
   "display_name": "loom-py3.13",
   "language": "python",
   "name": "python3"
  },
  "language_info": {
   "codemirror_mode": {
    "name": "ipython",
    "version": 3
   },
   "file_extension": ".py",
   "mimetype": "text/x-python",
   "name": "python",
   "nbconvert_exporter": "python",
   "pygments_lexer": "ipython3",
   "version": "3.13.7"
  }
 },
 "nbformat": 4,
 "nbformat_minor": 5
}
